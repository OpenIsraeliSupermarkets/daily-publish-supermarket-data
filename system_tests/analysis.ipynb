{
 "cells": [
  {
   "cell_type": "code",
   "execution_count": null,
   "metadata": {},
   "outputs": [
    {
     "name": "stdout",
     "output_type": "stream",
     "text": [
      "Requirement already satisfied: pymongo in ./venv/lib/python3.9/site-packages (4.6.3)\n",
      "Requirement already satisfied: dnspython<3.0.0,>=1.16.0 in ./venv/lib/python3.9/site-packages (from pymongo) (2.7.0)\n",
      "\u001b[33mWARNING: You are using pip version 21.2.4; however, version 25.0.1 is available.\n",
      "You should consider upgrading via the '/Users/erlichsefi/Documents/daily-publish-supermarket-data/venv/bin/python3 -m pip install --upgrade pip' command.\u001b[0m\n"
     ]
    }
   ],
   "source": [
    "! pip install pymongo"
   ]
  },
  {
   "cell_type": "code",
   "execution_count": 99,
   "metadata": {},
   "outputs": [
    {
     "name": "stdout",
     "output_type": "stream",
     "text": [
      "keshet: ['20250308030551', '20250308051627', '20250308081936', '20250308111503', '20250308142601', '20250308171416']\n",
      "yaynotbitan: ['20250308030519', '20250308051623', '20250308081921', '20250308111448', '20250308142545', '20250308171402']\n",
      "goodpharm: ['20250308031015', '20250308051620', '20250308082852', '20250308111902', '20250308143519', '20250308172009']\n",
      "hetcohen: ['20250308030547', '20250308051624', '20250308081932', '20250308111455', '20250308142556', '20250308171410']\n",
      "supersapir: ['20250308031040', '20250308051701', '20250308082446', '20250308111923', '20250308143132', '20250308171758']\n",
      "mega: ['20250308030725', '20250308051702', '20250308082026', '20250308111552', '20250308142650', '20250308171457']\n",
      "victory: ['20250308031333', '20250308051711', '20250308082741', '20250308111943', '20250308143153', '20250308171812']\n",
      "tivtaam: ['20250308031107', '20250308051707', '20250308082540', '20250308111942', '20250308143146', '20250308171811']\n",
      "yellow: ['20250308031335', '20250308051731', '20250308082817', '20250308112001', '20250308143230', '20250308171833']\n",
      "superpharm: ['20250308031606', '20250308051632', '20250308082749', '20250308112121', '20250308143510', '20250308172042']\n",
      "citymarketkiryatgat: ['20250308030520', '20250308051621', '20250308081922', '20250308111445', '20250308142545', '20250308171402']\n",
      "shefabarcartashem: ['20250308030743', '20250308051632', '20250308082222', '20250308111727', '20250308142908', '20250308171435']\n",
      "stopmarket: ['20250308031028', '20250308051632', '20250308082343', '20250308111759', '20250308143050', '20250308171738']\n",
      "freshmarketandsuperdosh: ['20250308031050', '20250308051703', '20250308082458', '20250308111937', '20250308143133', '20250308171759']\n",
      "zolvebegadol: ['20250308031619', '20250308051751', '20250308083049', '20250308112134', '20250308143506', '20250308172036']\n",
      "maayan2000: ['20250308030632', '20250308051625', '20250308081952', '20250308111506', '20250308142619', '20250308171412']\n",
      "meshnatyosef1: ['20250308030726', '20250308051628', '20250308082007', '20250308111522', '20250308142651', '20250308171428']\n",
      "shukahir: ['20250308031102', '20250308052034', '20250308082439', '20250308111949', '20250308143132', '20250308171757']\n",
      "meshnatyosef2: ['20250308030729', '20250308051629', '20250308082010', '20250308111524', '20250308142654', '20250308171431']\n",
      "doralon: ['20250308030519', '20250308051619', '20250308081921', '20250308111444', '20250308142545', '20250308171402']\n",
      "bareket: ['20250308030519', '20250308051619', '20250308081921', '20250308111444', '20250308142545', '20250308171402']\n",
      "salachdabach: ['20250308031027', '20250308051632', '20250308082342', '20250308111726', '20250308143050', '20250308171435']\n",
      "kingstore: ['20250308030718', '20250308051627', '20250308081946', '20250308111506', '20250308142609', '20250308171416']\n",
      "quik: ['20250308031328', '20250308051705', '20250308082539', '20250308111941', '20250308143145', '20250308171810']\n",
      "superyuda: ['20250308031620', '20250308051700', '20250308082847', '20250308112149', '20250308143527', '20250308172053']\n",
      "hazihinam: ['20250308031019', '20250308051621', '20250308082908', '20250308111918', '20250308143539', '20250308172010']\n",
      "ramilevy: ['20250308030753', '20250308051631', '20250308082116', '20250308111637', '20250308142824', '20250308171434']\n",
      "polizer: ['20250308030731', '20250308051631', '20250308082057', '20250308111628', '20250308142812', '20250308171434']\n",
      "mahsaniashuk: ['20250308030641', '20250308051631', '20250308081958', '20250308111515', '20250308142619', '20250308171413']\n",
      "osherad: ['20250308030730', '20250308051631', '20250308082010', '20250308111526', '20250308142654', '20250308171432']\n",
      "shufersal: ['20250308030747', '20250308051635', '20250308082234', '20250308111738', '20250308142911', '20250308171438']\n",
      "citymarketshops: ['20250308030522', '20250308051622', '20250308081923', '20250308111446', '20250308142546', '20250308171403']\n",
      "yohananof: ['20250308031328', '20250308051734', '20250308082915', '20250308111957', '20250308143447', '20250308172015']\n",
      "cofix: ['20250308030520', '20250308051625', '20250308081924', '20250308111453', '20250308142549', '20250308171406']\n",
      "wolt: ['20250308031625', '20250308051752', '20250308083059', '20250308112150', '20250308143506', '20250308172036']\n",
      "citymarketgivatayim: ['20250308030519', '20250308051619', '20250308081921', '20250308111445', '20250308142545', '20250308171402']\n"
     ]
    }
   ],
   "source": [
    "import pymongo\n",
    "from collections import defaultdict\n",
    "\n",
    "# Connect to MongoDB (change the URI if needed)\n",
    "client = pymongo.MongoClient(\"mongodb://192.168.1.129:27017/\")\n",
    "\n",
    "# Select a database\n",
    "db = client[\"supermarket_data\"]\n",
    "\n",
    "# Select a scraper_status_collection\n",
    "scraper_status_collection = db[\"ScraperStatus\"]\n",
    "parser_status_collection = db[\"ParserStatus\"]\n",
    "\n",
    "\n",
    "#o retrieve \"timestamp\" and \"file_name\"\n",
    "query = {}\n",
    "projection = {\"timestamp\": 1, \"file_name\": 1, \"_id\": 0}  # Retrieve only necessary fields\n",
    "\n",
    "# Use a dictionary with sets to store unique timestamps per file_name\n",
    "file_name_dict = defaultdict(set)\n",
    "\n",
    "# Fetch documents and populate the dictionary\n",
    "for doc in scraper_status_collection.find(query, projection):\n",
    "    if \"timestamp\" in doc and \"file_name\" in doc:  # Ensure fields exist\n",
    "        file_name_dict[doc[\"file_name\"]].add(doc[\"timestamp\"])\n",
    "\n",
    "# Convert sets to sorted lists for better readability\n",
    "file_name_dict = {file_name: sorted(timestamps) for file_name, timestamps in file_name_dict.items()}\n",
    "\n",
    "# Print result\n",
    "for file_name, timestamps in file_name_dict.items():\n",
    "    print(f\"{file_name}: {timestamps}\")"
   ]
  },
  {
   "cell_type": "code",
   "execution_count": null,
   "metadata": {},
   "outputs": [],
   "source": []
  },
  {
   "cell_type": "code",
   "execution_count": 122,
   "metadata": {},
   "outputs": [],
   "source": [
    "# Dictionary to store validation results\n",
    "validation_results = {}\n",
    "final_validation_results = {}\n",
    "# Iterate over each chain name and its unique timestamps\n",
    "for chain_name, timestamps in file_name_dict.items():\n",
    "    if not timestamps:\n",
    "        continue  # Skip if there are no timestamps\n",
    "\n",
    "    validation_results[chain_name] = []\n",
    "    for sample_timestamp in timestamps:\n",
    "    \n",
    "        # Aggregation query to count matching documents\n",
    "        pipeline = [\n",
    "            {\"$match\": {\"timestamp\": sample_timestamp, \"file_name\": chain_name}},\n",
    "            {\"$count\": \"count\"}\n",
    "        ]\n",
    "\n",
    "        # Execute the aggregation\n",
    "        result = list(scraper_status_collection.aggregate(pipeline))\n",
    "\n",
    "        # Check if exactly 4 documents match\n",
    "        validation_results[chain_name].append(result[0][\"count\"] == 4 if result else False)\n",
    "    final_validation_results[chain_name] = all(validation_results[chain_name])\n"
   ]
  },
  {
   "cell_type": "code",
   "execution_count": 108,
   "metadata": {},
   "outputs": [
    {
     "data": {
      "text/plain": [
       "['Price7290058266241-045-202503081610',\n",
       " 'Price7290058266241-046-202503081610',\n",
       " 'Price7290058266241-046-202503081710']"
      ]
     },
     "execution_count": 108,
     "metadata": {},
     "output_type": "execute_result"
    }
   ],
   "source": [
    "chain_name = 'citymarketkiryatgat'\n",
    "\n",
    "sample_timestamp = file_name_dict[chain_name][-1]\n",
    "\n",
    "# find the collecting start\n",
    "query = {\"timestamp\": sample_timestamp,\"file_name\": chain_name, \"status\":\"collected\"}\n",
    "collected_in_this_try = scraper_status_collection.find_one(query)\n",
    "\n",
    "# find the downloading loads\n",
    "query = {\"timestamp\": sample_timestamp,\"file_name\": chain_name, \"status\":\"downloaded\"}\n",
    "download_in_this_try = scraper_status_collection.find_one(query)\n",
    "\n",
    "\n",
    "\n",
    "\n",
    "# file saw in the website\n",
    "files_saw = collected_in_this_try['file_name_collected_from_site']\n",
    "files_saw = list(map(lambda x: x.replace(\".gz\",\"\"), files_saw))\n",
    "\n",
    "# file downloaded\n",
    "files_downloaded = download_in_this_try['results']\n",
    "downloaded_file_names = list(map(lambda x: x['file_name'].replace(\".gz\",\"\"), files_downloaded))\n",
    "\n",
    "\n",
    "# Diff\n",
    "saw_but_not_downloaded = set(downloaded_file_names) - set(files_saw)\n",
    "downloaded_but_not_saw = set(files_saw) - set(downloaded_file_names)\n",
    "\n",
    "\n",
    "\n",
    "files_saw"
   ]
  },
  {
   "cell_type": "markdown",
   "metadata": {},
   "source": []
  },
  {
   "cell_type": "code",
   "execution_count": 115,
   "metadata": {},
   "outputs": [],
   "source": [
    "import datetime\n",
    "from il_supermarket_scarper import DumpFolderNames\n",
    "\n",
    "def match_parsing_timestamps(sample_timestamp,chain_name):\n",
    "    all_parsing_timestamps = list(set(map(lambda x: x['timestamp'],list(parser_status_collection.find({\"store_enum\":chain_name},{\"timestamp\":1,\"_id\":0})))))\n",
    "    scraping_timestamp = datetime.datetime.strptime(sample_timestamp, \"%Y%m%d%H%M%S\")\n",
    "    \n",
    "    min_delta = None\n",
    "    associated_stamp = None\n",
    "    for parsing_timestamp in all_parsing_timestamps:\n",
    "        diff = datetime.datetime.strptime(parsing_timestamp, \"%d%m%Y%H%M%S\") - scraping_timestamp\n",
    "        if min_delta is None or diff < min_delta:\n",
    "            associated_stamp = parsing_timestamp\n",
    "            min_delta = diff\n",
    "    return associated_stamp\n",
    "\n",
    "def match_chain_names(chain_name):\n",
    "    for k in DumpFolderNames:\n",
    "        if k.value.lower() == chain_name.split(\".\")[0].lower():\n",
    "            return str(k.name)\n",
    "\n",
    "matched_chain_name = match_chain_names(chain_name)\n",
    "matched_timestamp = match_parsing_timestamps(sample_timestamp,matched_chain_name)\n"
   ]
  },
  {
   "cell_type": "code",
   "execution_count": 121,
   "metadata": {},
   "outputs": [
    {
     "data": {
      "text/plain": [
       "['Price7290058266241-045-202503081610',\n",
       " 'Price7290058266241-046-202503081610',\n",
       " 'Price7290058266241-046-202503081710']"
      ]
     },
     "execution_count": 121,
     "metadata": {},
     "output_type": "execute_result"
    }
   ],
   "source": [
    "from itertools import chain\n",
    "file_listed_to_parse = list(chain.from_iterable(map(lambda x: map(lambda y: y.replace(\".aspx.xml\",\"\"),x['response']['files_to_process']), parser_status_collection.find({\"store_enum\":matched_chain_name,\"timestamp\":matched_timestamp}))))\n",
    "file_listed_to_parse"
   ]
  },
  {
   "cell_type": "code",
   "execution_count": 117,
   "metadata": {},
   "outputs": [
    {
     "data": {
      "text/plain": [
       "[{'status': True,\n",
       "  'store_folder': 'app_data/dumps/CityMarketKiryatGat',\n",
       "  'file_name': 'Price7290058266241-045-202503081610.aspx.xml',\n",
       "  'prefix_file_name': 'Price7290058266241',\n",
       "  'extracted_store_number': '045',\n",
       "  'extracted_chain_id': '7290058266241',\n",
       "  'extracted_date': '2025-03-08 16:10:00',\n",
       "  'detected_filetype': 'PRICE_FILE'},\n",
       " {'status': True,\n",
       "  'store_folder': 'app_data/dumps/CityMarketKiryatGat',\n",
       "  'file_name': 'Price7290058266241-046-202503081610.aspx.xml',\n",
       "  'prefix_file_name': 'Price7290058266241',\n",
       "  'extracted_store_number': '046',\n",
       "  'extracted_chain_id': '7290058266241',\n",
       "  'extracted_date': '2025-03-08 16:10:00',\n",
       "  'detected_filetype': 'PRICE_FILE'},\n",
       " {'status': True,\n",
       "  'store_folder': 'app_data/dumps/CityMarketKiryatGat',\n",
       "  'file_name': 'Price7290058266241-046-202503081710.aspx.xml',\n",
       "  'prefix_file_name': 'Price7290058266241',\n",
       "  'extracted_store_number': '046',\n",
       "  'extracted_chain_id': '7290058266241',\n",
       "  'extracted_date': '2025-03-08 17:10:00',\n",
       "  'detected_filetype': 'PRICE_FILE'}]"
      ]
     },
     "execution_count": 117,
     "metadata": {},
     "output_type": "execute_result"
    }
   ],
   "source": [
    "parsing_results = list(chain.from_iterable(map(lambda x: x['response']['execution_log'], parser_status_collection.find({\"store_enum\":matched_chain_name,\"timestamp\":matched_timestamp}))))\n",
    "parsing_results\n"
   ]
  },
  {
   "cell_type": "code",
   "execution_count": null,
   "metadata": {},
   "outputs": [],
   "source": []
  }
 ],
 "metadata": {
  "kernelspec": {
   "display_name": "venv",
   "language": "python",
   "name": "python3"
  },
  "language_info": {
   "codemirror_mode": {
    "name": "ipython",
    "version": 3
   },
   "file_extension": ".py",
   "mimetype": "text/x-python",
   "name": "python",
   "nbconvert_exporter": "python",
   "pygments_lexer": "ipython3",
   "version": "3.9.6"
  }
 },
 "nbformat": 4,
 "nbformat_minor": 2
}
